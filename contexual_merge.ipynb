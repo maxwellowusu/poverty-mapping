{
  "nbformat": 4,
  "nbformat_minor": 0,
  "metadata": {
    "colab": {
      "name": "contexual_merge.ipynb",
      "provenance": [],
      "collapsed_sections": [],
      "mount_file_id": "1PWec5X3WdDHO8rH2wxQ6fecdOzWrJR7l",
      "authorship_tag": "ABX9TyNkqWTKighiIRLZarZi9+eL",
      "include_colab_link": true
    },
    "kernelspec": {
      "name": "python3",
      "display_name": "Python 3"
    },
    "language_info": {
      "name": "python"
    }
  },
  "cells": [
    {
      "cell_type": "markdown",
      "metadata": {
        "id": "view-in-github",
        "colab_type": "text"
      },
      "source": [
        "<a href=\"https://colab.research.google.com/github/maxwellowusu/poverty-mapping/blob/main/contexual_merge.ipynb\" target=\"_parent\"><img src=\"https://colab.research.google.com/assets/colab-badge.svg\" alt=\"Open In Colab\"/></a>"
      ]
    },
    {
      "cell_type": "markdown",
      "source": [
        "\n",
        "**Install libraries if needed**\n",
        "\n",
        "To install libraries used ! pip or conda "
      ],
      "metadata": {
        "id": "qX7gNy1ECYjU"
      }
    },
    {
      "cell_type": "code",
      "execution_count": null,
      "metadata": {
        "colab": {
          "base_uri": "https://localhost:8080/"
        },
        "id": "MypAc-gJCTiC",
        "outputId": "941527e3-0388-403d-d018-ed6f49cabb5c"
      },
      "outputs": [
        {
          "output_type": "stream",
          "name": "stdout",
          "text": [
            "Requirement already satisfied: rasterio in /usr/local/lib/python3.7/dist-packages (1.2.10)\n",
            "Requirement already satisfied: click-plugins in /usr/local/lib/python3.7/dist-packages (from rasterio) (1.1.1)\n",
            "Requirement already satisfied: attrs in /usr/local/lib/python3.7/dist-packages (from rasterio) (21.4.0)\n",
            "Requirement already satisfied: cligj>=0.5 in /usr/local/lib/python3.7/dist-packages (from rasterio) (0.7.2)\n",
            "Requirement already satisfied: certifi in /usr/local/lib/python3.7/dist-packages (from rasterio) (2021.10.8)\n",
            "Requirement already satisfied: setuptools in /usr/local/lib/python3.7/dist-packages (from rasterio) (57.4.0)\n",
            "Requirement already satisfied: click>=4.0 in /usr/local/lib/python3.7/dist-packages (from rasterio) (7.1.2)\n",
            "Requirement already satisfied: numpy in /usr/local/lib/python3.7/dist-packages (from rasterio) (1.19.5)\n",
            "Requirement already satisfied: snuggs>=1.4.1 in /usr/local/lib/python3.7/dist-packages (from rasterio) (1.4.7)\n",
            "Requirement already satisfied: affine in /usr/local/lib/python3.7/dist-packages (from rasterio) (2.3.0)\n",
            "Requirement already satisfied: pyparsing>=2.1.6 in /usr/local/lib/python3.7/dist-packages (from snuggs>=1.4.1->rasterio) (3.0.7)\n",
            "Requirement already satisfied: gpytorch in /usr/local/lib/python3.7/dist-packages (1.6.0)\n"
          ]
        }
      ],
      "source": [
        "!pip install rasterio\n",
        "!pip install gpytorch"
      ]
    },
    {
      "cell_type": "markdown",
      "source": [
        "Import libraries "
      ],
      "metadata": {
        "id": "VRptoRVgCf89"
      }
    },
    {
      "cell_type": "code",
      "source": [
        "import numpy as np\n",
        "from sklearn import preprocessing\n",
        "import torch\n",
        "import pandas as pd\n",
        "import rasterio\n",
        "from rasterio.plot import show\n",
        "import gpytorch\n",
        "import gdal\n",
        "import glob\n",
        "import os"
      ],
      "metadata": {
        "id": "rcSCdNJrCj-i"
      },
      "execution_count": null,
      "outputs": []
    },
    {
      "cell_type": "markdown",
      "source": [
        "Importing contextual features from multiple folders "
      ],
      "metadata": {
        "id": "N78KaUUXDnr8"
      }
    },
    {
      "cell_type": "code",
      "source": [
        "# set main path. \n",
        "# end path with /\n",
        "Path = '/content/drive/MyDrive/Project_data_IDEAMAPS/lagos/spfea_contextual_features/'\n",
        "filelist = os.listdir(Path)\n",
        "\n",
        "#Make empty list to store all paths to subdirectories in.\n",
        "Path2 = []\n",
        "for x in filelist:\n",
        "    if x.startswith('fourier', 0, 10):\n",
        "        Path2.append(Path + x+ '/')\n",
        "    if x.startswith('gabor', 0, 10):\n",
        "        Path2.append(Path + x+ '/')\n",
        "    if x.startswith('hog', 0, 10):\n",
        "        Path2.append(Path + x+ '/')\n",
        "    if x.startswith('lac', 0, 10):\n",
        "        Path2.append(Path + x+ '/')\n",
        "    if x.startswith('ibpm', 0, 10):\n",
        "        Path2.append(Path + x+ '/')\n",
        "    if x.startswith('isr', 0, 10):\n",
        "        Path2.append(Path + x+ '/')\n",
        "    if x.startswith('mean', 0, 10):\n",
        "        Path2.append(Path + x+ '/')\n",
        "    if x.startswith('ndvi', 0, 10):\n",
        "        Path2.append(Path + x+ '/')\n",
        "    if x.startswith('orb', 0, 10):\n",
        "        Path2.append(Path + x+ '/')\n",
        "    if x.startswith('pantex', 0, 10):\n",
        "        Path2.append(Path + x+ '/')\n",
        "    if x.startswith('sfs', 0, 10):\n",
        "        Path2.append(Path + x+ '/')\n",
        "        \n",
        "file_list3 = []\n",
        "for i in Path2:\n",
        "    filelist2 = os.listdir(i)\n",
        "    for j in filelist2:\n",
        "        if j.endswith('.tif'):\n",
        "            file = i+j\n",
        "            file_list3.append(file)\n",
        "\n",
        "print(file_list3)"
      ],
      "metadata": {
        "colab": {
          "base_uri": "https://localhost:8080/"
        },
        "id": "nXiF0OmIDUE-",
        "outputId": "0d103ae7-3027-4e12-ceb9-2803580f9f60"
      },
      "execution_count": null,
      "outputs": [
        {
          "output_type": "stream",
          "name": "stdout",
          "text": [
            "['/content/drive/MyDrive/Project_data_IDEAMAPS/lagos/spfea_contextual_features/fourier/fourier_sc31_variance.tif', '/content/drive/MyDrive/Project_data_IDEAMAPS/lagos/spfea_contextual_features/fourier/fourier_sc51_mean.tif', '/content/drive/MyDrive/Project_data_IDEAMAPS/lagos/spfea_contextual_features/fourier/fourier_sc51_variance.tif', '/content/drive/MyDrive/Project_data_IDEAMAPS/lagos/spfea_contextual_features/fourier/fourier_sc71_mean.tif', '/content/drive/MyDrive/Project_data_IDEAMAPS/lagos/spfea_contextual_features/fourier/fourier_sc71_variance.tif', '/content/drive/MyDrive/Project_data_IDEAMAPS/lagos/spfea_contextual_features/fourier/fourier_sc31_mean.tif', '/content/drive/MyDrive/Project_data_IDEAMAPS/lagos/spfea_contextual_features/mean/mean_sc3_mean.tif', '/content/drive/MyDrive/Project_data_IDEAMAPS/lagos/spfea_contextual_features/mean/mean_sc3_variance.tif', '/content/drive/MyDrive/Project_data_IDEAMAPS/lagos/spfea_contextual_features/mean/mean_sc5_variance.tif', '/content/drive/MyDrive/Project_data_IDEAMAPS/lagos/spfea_contextual_features/mean/mean_sc7_mean.tif', '/content/drive/MyDrive/Project_data_IDEAMAPS/lagos/spfea_contextual_features/mean/mean_sc7_variance.tif', '/content/drive/MyDrive/Project_data_IDEAMAPS/lagos/spfea_contextual_features/mean/mean_sc5_mean.tif', '/content/drive/MyDrive/Project_data_IDEAMAPS/lagos/spfea_contextual_features/ndvi/ndvi_sc3_mean.tif', '/content/drive/MyDrive/Project_data_IDEAMAPS/lagos/spfea_contextual_features/ndvi/ndvi_sc3_variance.tif', '/content/drive/MyDrive/Project_data_IDEAMAPS/lagos/spfea_contextual_features/ndvi/ndvi_sc5_mean.tif', '/content/drive/MyDrive/Project_data_IDEAMAPS/lagos/spfea_contextual_features/ndvi/ndvi_sc5_variance.tif', '/content/drive/MyDrive/Project_data_IDEAMAPS/lagos/spfea_contextual_features/ndvi/ndvi_sc7_mean.tif', '/content/drive/MyDrive/Project_data_IDEAMAPS/lagos/spfea_contextual_features/ndvi/ndvi_sc7_variance.tif', '/content/drive/MyDrive/Project_data_IDEAMAPS/lagos/spfea_contextual_features/orb/orb_sc31_max.tif', '/content/drive/MyDrive/Project_data_IDEAMAPS/lagos/spfea_contextual_features/orb/orb_sc31_mean.tif', '/content/drive/MyDrive/Project_data_IDEAMAPS/lagos/spfea_contextual_features/orb/orb_sc31_variance.tif', '/content/drive/MyDrive/Project_data_IDEAMAPS/lagos/spfea_contextual_features/orb/orb_sc31_skew.tif', '/content/drive/MyDrive/Project_data_IDEAMAPS/lagos/spfea_contextual_features/orb/orb_sc31_kurtosis.tif', '/content/drive/MyDrive/Project_data_IDEAMAPS/lagos/spfea_contextual_features/orb/orb_sc51_max.tif', '/content/drive/MyDrive/Project_data_IDEAMAPS/lagos/spfea_contextual_features/orb/orb_sc51_mean.tif', '/content/drive/MyDrive/Project_data_IDEAMAPS/lagos/spfea_contextual_features/orb/orb_sc51_variance.tif', '/content/drive/MyDrive/Project_data_IDEAMAPS/lagos/spfea_contextual_features/orb/orb_sc51_skew.tif', '/content/drive/MyDrive/Project_data_IDEAMAPS/lagos/spfea_contextual_features/orb/orb_sc51_kurtosis.tif', '/content/drive/MyDrive/Project_data_IDEAMAPS/lagos/spfea_contextual_features/orb/orb_sc71_max.tif', '/content/drive/MyDrive/Project_data_IDEAMAPS/lagos/spfea_contextual_features/orb/orb_sc71_mean.tif', '/content/drive/MyDrive/Project_data_IDEAMAPS/lagos/spfea_contextual_features/orb/orb_sc71_variance.tif', '/content/drive/MyDrive/Project_data_IDEAMAPS/lagos/spfea_contextual_features/orb/orb_sc71_skew.tif', '/content/drive/MyDrive/Project_data_IDEAMAPS/lagos/spfea_contextual_features/orb/orb_sc71_kurtosis.tif', '/content/drive/MyDrive/Project_data_IDEAMAPS/lagos/spfea_contextual_features/lac/lac_sc3_lac.tif', '/content/drive/MyDrive/Project_data_IDEAMAPS/lagos/spfea_contextual_features/lac/lac_sc5_lac.tif', '/content/drive/MyDrive/Project_data_IDEAMAPS/lagos/spfea_contextual_features/lac/lac_sc7_lac.tif', '/content/drive/MyDrive/Project_data_IDEAMAPS/lagos/spfea_contextual_features/gabor/gabor_sc3_mean.tif', '/content/drive/MyDrive/Project_data_IDEAMAPS/lagos/spfea_contextual_features/gabor/gabor_sc3_variance.tif', '/content/drive/MyDrive/Project_data_IDEAMAPS/lagos/spfea_contextual_features/gabor/gabor_sc3_filter_1.tif', '/content/drive/MyDrive/Project_data_IDEAMAPS/lagos/spfea_contextual_features/gabor/gabor_sc3_filter_2.tif', '/content/drive/MyDrive/Project_data_IDEAMAPS/lagos/spfea_contextual_features/gabor/gabor_sc3_filter_3.tif', '/content/drive/MyDrive/Project_data_IDEAMAPS/lagos/spfea_contextual_features/gabor/gabor_sc3_filter_4.tif', '/content/drive/MyDrive/Project_data_IDEAMAPS/lagos/spfea_contextual_features/gabor/gabor_sc3_filter_5.tif', '/content/drive/MyDrive/Project_data_IDEAMAPS/lagos/spfea_contextual_features/gabor/gabor_sc3_filter_6.tif', '/content/drive/MyDrive/Project_data_IDEAMAPS/lagos/spfea_contextual_features/gabor/gabor_sc3_filter_7.tif', '/content/drive/MyDrive/Project_data_IDEAMAPS/lagos/spfea_contextual_features/gabor/gabor_sc3_filter_8.tif', '/content/drive/MyDrive/Project_data_IDEAMAPS/lagos/spfea_contextual_features/gabor/gabor_sc3_filter_9.tif', '/content/drive/MyDrive/Project_data_IDEAMAPS/lagos/spfea_contextual_features/gabor/gabor_sc3_filter_10.tif', '/content/drive/MyDrive/Project_data_IDEAMAPS/lagos/spfea_contextual_features/gabor/gabor_sc3_filter_11.tif', '/content/drive/MyDrive/Project_data_IDEAMAPS/lagos/spfea_contextual_features/gabor/gabor_sc3_filter_12.tif', '/content/drive/MyDrive/Project_data_IDEAMAPS/lagos/spfea_contextual_features/gabor/gabor_sc3_filter_13.tif', '/content/drive/MyDrive/Project_data_IDEAMAPS/lagos/spfea_contextual_features/gabor/gabor_sc3_filter_14.tif', '/content/drive/MyDrive/Project_data_IDEAMAPS/lagos/spfea_contextual_features/gabor/gabor_sc5_mean.tif', '/content/drive/MyDrive/Project_data_IDEAMAPS/lagos/spfea_contextual_features/gabor/gabor_sc5_variance.tif', '/content/drive/MyDrive/Project_data_IDEAMAPS/lagos/spfea_contextual_features/gabor/gabor_sc5_filter_1.tif', '/content/drive/MyDrive/Project_data_IDEAMAPS/lagos/spfea_contextual_features/gabor/gabor_sc5_filter_2.tif', '/content/drive/MyDrive/Project_data_IDEAMAPS/lagos/spfea_contextual_features/gabor/gabor_sc5_filter_3.tif', '/content/drive/MyDrive/Project_data_IDEAMAPS/lagos/spfea_contextual_features/gabor/gabor_sc5_filter_4.tif', '/content/drive/MyDrive/Project_data_IDEAMAPS/lagos/spfea_contextual_features/gabor/gabor_sc5_filter_5.tif', '/content/drive/MyDrive/Project_data_IDEAMAPS/lagos/spfea_contextual_features/gabor/gabor_sc5_filter_6.tif', '/content/drive/MyDrive/Project_data_IDEAMAPS/lagos/spfea_contextual_features/gabor/gabor_sc5_filter_7.tif', '/content/drive/MyDrive/Project_data_IDEAMAPS/lagos/spfea_contextual_features/gabor/gabor_sc5_filter_8.tif', '/content/drive/MyDrive/Project_data_IDEAMAPS/lagos/spfea_contextual_features/gabor/gabor_sc5_filter_9.tif', '/content/drive/MyDrive/Project_data_IDEAMAPS/lagos/spfea_contextual_features/gabor/gabor_sc5_filter_10.tif', '/content/drive/MyDrive/Project_data_IDEAMAPS/lagos/spfea_contextual_features/gabor/gabor_sc5_filter_11.tif', '/content/drive/MyDrive/Project_data_IDEAMAPS/lagos/spfea_contextual_features/gabor/gabor_sc5_filter_12.tif', '/content/drive/MyDrive/Project_data_IDEAMAPS/lagos/spfea_contextual_features/gabor/gabor_sc5_filter_13.tif', '/content/drive/MyDrive/Project_data_IDEAMAPS/lagos/spfea_contextual_features/gabor/gabor_sc5_filter_14.tif', '/content/drive/MyDrive/Project_data_IDEAMAPS/lagos/spfea_contextual_features/gabor/gabor_sc7_mean.tif', '/content/drive/MyDrive/Project_data_IDEAMAPS/lagos/spfea_contextual_features/gabor/gabor_sc7_variance.tif', '/content/drive/MyDrive/Project_data_IDEAMAPS/lagos/spfea_contextual_features/gabor/gabor_sc7_filter_1.tif', '/content/drive/MyDrive/Project_data_IDEAMAPS/lagos/spfea_contextual_features/gabor/gabor_sc7_filter_2.tif', '/content/drive/MyDrive/Project_data_IDEAMAPS/lagos/spfea_contextual_features/gabor/gabor_sc7_filter_3.tif', '/content/drive/MyDrive/Project_data_IDEAMAPS/lagos/spfea_contextual_features/gabor/gabor_sc7_filter_4.tif', '/content/drive/MyDrive/Project_data_IDEAMAPS/lagos/spfea_contextual_features/gabor/gabor_sc7_filter_5.tif', '/content/drive/MyDrive/Project_data_IDEAMAPS/lagos/spfea_contextual_features/gabor/gabor_sc7_filter_6.tif', '/content/drive/MyDrive/Project_data_IDEAMAPS/lagos/spfea_contextual_features/gabor/gabor_sc7_filter_7.tif', '/content/drive/MyDrive/Project_data_IDEAMAPS/lagos/spfea_contextual_features/gabor/gabor_sc7_filter_8.tif', '/content/drive/MyDrive/Project_data_IDEAMAPS/lagos/spfea_contextual_features/gabor/gabor_sc7_filter_9.tif', '/content/drive/MyDrive/Project_data_IDEAMAPS/lagos/spfea_contextual_features/gabor/gabor_sc7_filter_10.tif', '/content/drive/MyDrive/Project_data_IDEAMAPS/lagos/spfea_contextual_features/gabor/gabor_sc7_filter_11.tif', '/content/drive/MyDrive/Project_data_IDEAMAPS/lagos/spfea_contextual_features/gabor/gabor_sc7_filter_12.tif', '/content/drive/MyDrive/Project_data_IDEAMAPS/lagos/spfea_contextual_features/gabor/gabor_sc7_filter_13.tif', '/content/drive/MyDrive/Project_data_IDEAMAPS/lagos/spfea_contextual_features/gabor/gabor_sc7_filter_14.tif', '/content/drive/MyDrive/Project_data_IDEAMAPS/lagos/spfea_contextual_features/hog/hog_sc3_max.tif', '/content/drive/MyDrive/Project_data_IDEAMAPS/lagos/spfea_contextual_features/hog/hog_sc3_mean.tif', '/content/drive/MyDrive/Project_data_IDEAMAPS/lagos/spfea_contextual_features/hog/hog_sc3_variance.tif', '/content/drive/MyDrive/Project_data_IDEAMAPS/lagos/spfea_contextual_features/hog/hog_sc3_skew.tif', '/content/drive/MyDrive/Project_data_IDEAMAPS/lagos/spfea_contextual_features/hog/hog_sc3_kurtosis.tif', '/content/drive/MyDrive/Project_data_IDEAMAPS/lagos/spfea_contextual_features/hog/hog_sc5_max.tif', '/content/drive/MyDrive/Project_data_IDEAMAPS/lagos/spfea_contextual_features/hog/hog_sc5_mean.tif', '/content/drive/MyDrive/Project_data_IDEAMAPS/lagos/spfea_contextual_features/hog/hog_sc5_variance.tif', '/content/drive/MyDrive/Project_data_IDEAMAPS/lagos/spfea_contextual_features/hog/hog_sc5_skew.tif', '/content/drive/MyDrive/Project_data_IDEAMAPS/lagos/spfea_contextual_features/hog/hog_sc5_kurtosis.tif', '/content/drive/MyDrive/Project_data_IDEAMAPS/lagos/spfea_contextual_features/hog/hog_sc7_max.tif', '/content/drive/MyDrive/Project_data_IDEAMAPS/lagos/spfea_contextual_features/hog/hog_sc7_mean.tif', '/content/drive/MyDrive/Project_data_IDEAMAPS/lagos/spfea_contextual_features/hog/hog_sc7_variance.tif', '/content/drive/MyDrive/Project_data_IDEAMAPS/lagos/spfea_contextual_features/hog/hog_sc7_skew.tif', '/content/drive/MyDrive/Project_data_IDEAMAPS/lagos/spfea_contextual_features/hog/hog_sc7_kurtosis.tif', '/content/drive/MyDrive/Project_data_IDEAMAPS/lagos/spfea_contextual_features/pantex/pantex_sc3_min.tif', '/content/drive/MyDrive/Project_data_IDEAMAPS/lagos/spfea_contextual_features/pantex/pantex_sc5_min.tif', '/content/drive/MyDrive/Project_data_IDEAMAPS/lagos/spfea_contextual_features/pantex/pantex_sc7_min.tif', '/content/drive/MyDrive/Project_data_IDEAMAPS/lagos/spfea_contextual_features/sfs/sfs_sc31_max_line_length.tif', '/content/drive/MyDrive/Project_data_IDEAMAPS/lagos/spfea_contextual_features/sfs/sfs_sc31_min_line_length.tif', '/content/drive/MyDrive/Project_data_IDEAMAPS/lagos/spfea_contextual_features/sfs/sfs_sc31_mean.tif', '/content/drive/MyDrive/Project_data_IDEAMAPS/lagos/spfea_contextual_features/sfs/sfs_sc31_w_mean.tif', '/content/drive/MyDrive/Project_data_IDEAMAPS/lagos/spfea_contextual_features/sfs/sfs_sc31_std.tif', '/content/drive/MyDrive/Project_data_IDEAMAPS/lagos/spfea_contextual_features/sfs/sfs_sc31_max_ratio_of_orthogonal_angles.tif', '/content/drive/MyDrive/Project_data_IDEAMAPS/lagos/spfea_contextual_features/sfs/sfs_sc51_max_line_length.tif', '/content/drive/MyDrive/Project_data_IDEAMAPS/lagos/spfea_contextual_features/sfs/sfs_sc51_min_line_length.tif', '/content/drive/MyDrive/Project_data_IDEAMAPS/lagos/spfea_contextual_features/sfs/sfs_sc51_mean.tif', '/content/drive/MyDrive/Project_data_IDEAMAPS/lagos/spfea_contextual_features/sfs/sfs_sc51_w_mean.tif', '/content/drive/MyDrive/Project_data_IDEAMAPS/lagos/spfea_contextual_features/sfs/sfs_sc51_std.tif', '/content/drive/MyDrive/Project_data_IDEAMAPS/lagos/spfea_contextual_features/sfs/sfs_sc51_max_ratio_of_orthogonal_angles.tif', '/content/drive/MyDrive/Project_data_IDEAMAPS/lagos/spfea_contextual_features/sfs/sfs_sc71_max_line_length.tif', '/content/drive/MyDrive/Project_data_IDEAMAPS/lagos/spfea_contextual_features/sfs/sfs_sc71_min_line_length.tif', '/content/drive/MyDrive/Project_data_IDEAMAPS/lagos/spfea_contextual_features/sfs/sfs_sc71_mean.tif', '/content/drive/MyDrive/Project_data_IDEAMAPS/lagos/spfea_contextual_features/sfs/sfs_sc71_w_mean.tif', '/content/drive/MyDrive/Project_data_IDEAMAPS/lagos/spfea_contextual_features/sfs/sfs_sc71_std.tif', '/content/drive/MyDrive/Project_data_IDEAMAPS/lagos/spfea_contextual_features/sfs/sfs_sc71_max_ratio_of_orthogonal_angles.tif']\n"
          ]
        }
      ]
    },
    {
      "cell_type": "markdown",
      "source": [
        "Converting .tif files to .vrt "
      ],
      "metadata": {
        "id": "cJIJXIJnD5iV"
      }
    },
    {
      "cell_type": "code",
      "source": [
        "vrt_options = gdal.BuildVRTOptions(separate= True)\n",
        "test_vrt = gdal.BuildVRT('test2.vrt', file_list3 , options=vrt_options)\n",
        "\n",
        "test_vrt = None\n",
        "\n",
        "# with rasterio.open('test2.vrt') as raster_vrt:\n",
        "\n",
        "#     rasterio.plot.show(raster_vrt)"
      ],
      "metadata": {
        "id": "X-JdHb3zD3ON"
      },
      "execution_count": null,
      "outputs": []
    },
    {
      "cell_type": "code",
      "source": [
        "fp = '/content/test2.vrt'\n",
        "covariate_features = rasterio.open(fp)\n",
        "data_loc = covariate_features.read()\n",
        "data_loc = np.array(data_loc)\n",
        "#Print data shape\n",
        "show(covariate_features)\n",
        "data_loc.shape"
      ],
      "metadata": {
        "id": "IE5uLLRvENUs"
      },
      "execution_count": null,
      "outputs": []
    }
  ]
}